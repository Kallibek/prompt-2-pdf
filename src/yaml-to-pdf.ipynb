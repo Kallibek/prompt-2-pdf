{
 "cells": [
  {
   "cell_type": "markdown",
   "id": "772fe8d7",
   "metadata": {},
   "source": [
    "# Imports and environment"
   ]
  },
  {
   "cell_type": "code",
   "execution_count": 10,
   "id": "aaa54aea",
   "metadata": {},
   "outputs": [
    {
     "data": {
      "text/plain": [
       "True"
      ]
     },
     "execution_count": 10,
     "metadata": {},
     "output_type": "execute_result"
    }
   ],
   "source": [
    "import os\n",
    "import sys\n",
    "import re\n",
    "from pathlib import Path\n",
    "\n",
    "from dotenv import load_dotenv\n",
    "from openai import OpenAI\n",
    "from markdown_pdf import MarkdownPdf, Section\n",
    "\n",
    "# Load environment variables (e.g. OPENAI_API_KEY)\n",
    "load_dotenv()"
   ]
  },
  {
   "cell_type": "markdown",
   "id": "8fdb159f",
   "metadata": {},
   "source": [
    "# User‐configurable variables (formerly CLI args)"
   ]
  },
  {
   "cell_type": "code",
   "execution_count": null,
   "id": "0259349e",
   "metadata": {},
   "outputs": [],
   "source": [
    "output_file   = \"../results/Communication skills as a snowflake data consultant.pdf\"           # --output\n",
    "model         = \"gpt-4.1-mini\"         # --model\n",
    "toc_level     = 3                      # --toc-level\n",
    "optimize      = False                  # --optimize\n",
    "use_web_search= True                   # --no-web-search → False\n",
    "max_output_tokens = 2000\n",
    "prompts_filename = \"../prompts.txt\"\n"
   ]
  },
  {
   "cell_type": "markdown",
   "id": "8c450e6c",
   "metadata": {},
   "source": [
    "# Helper function definitions"
   ]
  },
  {
   "cell_type": "code",
   "execution_count": 12,
   "id": "45c18dd2",
   "metadata": {},
   "outputs": [],
   "source": [
    "def generate_markdown_from_prompt(user_prompt, client):\n",
    "    try:\n",
    "        prompt = [\n",
    "            {\"role\": \"system\", \"content\": (\n",
    "                # \"You are a coach helping me to improve my soft skills as Snowflake Data Architects and Solutions Architects in a consultancy context. \"\n",
    "                \"Provide output in Markdown. \"\n",
    "                \"Use **bold** text for headers and not don't use '#' or '#'s headers. \"\n",
    "                \"Don't add line separators in response. \"\n",
    "                # \"Add code snippets where needed.\"\n",
    "                \"\"\n",
    "            )},\n",
    "            {\"role\": \"user\", \"content\": user_prompt},\n",
    "        ]\n",
    "        tools = [{\"type\": \"web_search_preview\"}] if use_web_search else []\n",
    "        response = client.responses.create(\n",
    "            model=model,\n",
    "            tools=tools,\n",
    "            input=prompt,\n",
    "            max_output_tokens = max_output_tokens\n",
    "        )\n",
    "        text = f\"Prompt: {user_prompt}\\n\\n\" + response.output_text.strip()\n",
    "        return text\n",
    "    except Exception as e:\n",
    "        print(f\"AI request failed for node '{user_prompt}': {e}\")\n",
    "        return f\"{user_prompt}\\n\\n---\\n\\n\"\n",
    "\n",
    "def process_prompts(prompts_text, client, pdf, css):\n",
    "    lines = prompts_text.strip().splitlines()\n",
    "    \n",
    "    len_lines = len(lines)\n",
    "    \n",
    "    section_md = \"\"\n",
    "    for idx, line in enumerate(lines, start=1):\n",
    "        stripped = line.lstrip()\n",
    "        # skip empty lines\n",
    "        if not stripped:\n",
    "            continue\n",
    "        # skip lines starting with '#'\n",
    "        elif stripped.startswith(\"#\"):\n",
    "            section_md = f\"{section_md}\\n\\n{stripped}\"\n",
    "        else:\n",
    "            print(f\"Processing Line {idx}/{len_lines} ({round(idx*100/len_lines)}%)...\")\n",
    "            md = generate_markdown_from_prompt(stripped, client)\n",
    "            section_md = f\"{section_md}\\n\\n{md}\\n\\n\"\n",
    "            pdf.add_section(Section(section_md), user_css=css)\n",
    "            section_md = \"\""
   ]
  },
  {
   "cell_type": "markdown",
   "id": "7d523a74",
   "metadata": {},
   "source": [
    "# Prompts"
   ]
  },
  {
   "cell_type": "code",
   "execution_count": 13,
   "id": "67be39b9",
   "metadata": {},
   "outputs": [
    {
     "name": "stdout",
     "output_type": "stream",
     "text": [
      "📝  Using header for filename → ..\\communication_skills_as_a_snowflake_data_consultant.pdf\n"
     ]
    }
   ],
   "source": [
    "# Open the file in read mode and assign its contents to chatgpt_prompts\n",
    "with open(prompts_filename, \"r\", encoding=\"utf-8\") as f:\n",
    "    chatgpt_prompts = f.read()\n",
    "\n",
    "if fetch_filename_from_header:\n",
    "    header_text = None\n",
    "    for line in chatgpt_prompts.splitlines():\n",
    "        if line.lstrip().startswith(\"# \"):\n",
    "            header_text = line.lstrip(\"# \").strip()\n",
    "            break\n",
    "\n",
    "    if header_text:\n",
    "        # simple slugify: lowercase, drop bad chars, spaces→underscore\n",
    "        def slugify(s):\n",
    "            s = s.lower()\n",
    "            s = re.sub(r\"[^\\w\\s-]\", \"\", s)\n",
    "            return re.sub(r\"\\s+\", \"_\", s).strip(\"_\")\n",
    "\n",
    "        base_dir = os.path.dirname(output_file)\n",
    "        output_file = os.path.join(base_dir, f\"{slugify(header_text)}.pdf\")\n",
    "        print(f\"📝  Using header for filename → {output_file}\")\n",
    "    else:\n",
    "        print(\"⚠️  fetch_filename_from_header is True, but no '# ' header found; using default output_file\")\n",
    "\n",
    "# Optional: print to verify\n",
    "# print(chatgpt_prompts)"
   ]
  },
  {
   "cell_type": "markdown",
   "id": "f2f4e4be",
   "metadata": {},
   "source": [
    "# Instantiate client, load YAML, and generate Markdown sections"
   ]
  },
  {
   "cell_type": "code",
   "execution_count": null,
   "id": "c5f91382",
   "metadata": {},
   "outputs": [],
   "source": [
    "from pathlib import Path\n",
    "\n",
    "api_key = os.getenv(\"OPENAI_API_KEY\")\n",
    "css = Path(\"custom.css\").read_text(encoding=\"utf-8\")\n",
    "pdf = MarkdownPdf(toc_level=toc_level, optimize=optimize)\n",
    "\n",
    "if not api_key:\n",
    "    print(\"Environment variable OPENAI_API_KEY is not set.\")\n",
    "    sys.exit(1)\n",
    "\n",
    "client = OpenAI(api_key=api_key)\n",
    "            \n",
    "process_prompts(chatgpt_prompts, client, pdf, css)\n"
   ]
  },
  {
   "cell_type": "markdown",
   "id": "b76faa09",
   "metadata": {},
   "source": [
    "# Save as PDF"
   ]
  },
  {
   "cell_type": "code",
   "execution_count": 9,
   "id": "67d90a61",
   "metadata": {},
   "outputs": [
    {
     "name": "stdout",
     "output_type": "stream",
     "text": [
      "Failed to save PDF: name 'pdf' is not defined\n"
     ]
    },
    {
     "ename": "NameError",
     "evalue": "name 'pdf' is not defined",
     "output_type": "error",
     "traceback": [
      "\u001b[31m---------------------------------------------------------------------------\u001b[39m",
      "\u001b[31mNameError\u001b[39m                                 Traceback (most recent call last)",
      "\u001b[36mCell\u001b[39m\u001b[36m \u001b[39m\u001b[32mIn[9]\u001b[39m\u001b[32m, line 2\u001b[39m\n\u001b[32m      1\u001b[39m \u001b[38;5;28;01mtry\u001b[39;00m:\n\u001b[32m----> \u001b[39m\u001b[32m2\u001b[39m     \u001b[43mpdf\u001b[49m.save(output_file)\n\u001b[32m      3\u001b[39m     \u001b[38;5;28mprint\u001b[39m(\u001b[33mf\u001b[39m\u001b[33m\"\u001b[39m\u001b[33mPDF successfully saved to \u001b[39m\u001b[38;5;132;01m{\u001b[39;00moutput_file\u001b[38;5;132;01m}\u001b[39;00m\u001b[33m\"\u001b[39m)\n\u001b[32m      4\u001b[39m \u001b[38;5;28;01mexcept\u001b[39;00m \u001b[38;5;167;01mException\u001b[39;00m \u001b[38;5;28;01mas\u001b[39;00m e:\n",
      "\u001b[31mNameError\u001b[39m: name 'pdf' is not defined"
     ]
    }
   ],
   "source": [
    "try:\n",
    "    pdf.save(output_file)\n",
    "    print(f\"PDF successfully saved to {output_file}\")\n",
    "except Exception as e:\n",
    "    print(f\"Failed to save PDF: {e}\")\n",
    "    raise"
   ]
  },
  {
   "cell_type": "code",
   "execution_count": null,
   "id": "8e1b1a8d",
   "metadata": {},
   "outputs": [],
   "source": []
  }
 ],
 "metadata": {
  "kernelspec": {
   "display_name": ".venv",
   "language": "python",
   "name": "python3"
  },
  "language_info": {
   "codemirror_mode": {
    "name": "ipython",
    "version": 3
   },
   "file_extension": ".py",
   "mimetype": "text/x-python",
   "name": "python",
   "nbconvert_exporter": "python",
   "pygments_lexer": "ipython3",
   "version": "3.13.3"
  }
 },
 "nbformat": 4,
 "nbformat_minor": 5
}
